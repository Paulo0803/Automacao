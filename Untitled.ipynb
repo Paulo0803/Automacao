{
 "cells": [
  {
   "cell_type": "code",
   "execution_count": null,
   "id": "010312c0",
   "metadata": {},
   "outputs": [],
   "source": [
    "import pyautogui\n",
    "import time\n",
    "import pyperclip\n",
    "import pandas as pd\n",
    "from selenium import webdriver\n",
    "import easygui\n",
    "\n",
    "\n",
    "#_______________________________________Declaração de váriaveis_______________________________________\n",
    "navegador = webdriver.Chrome()\n",
    "navegador.maximize_window()\n",
    "navegador.get('https://marketplace.netshoes.com.br/')\n",
    "\n",
    "email_net = \"\"\n",
    "senha_net = \"\"\n",
    "\n",
    "#_______________________________________Declaração de funções_______________________________________\n",
    "\n",
    "def coleta_magalu():\n",
    "    email_net = input(\"Insira o e-mail Magalu:\")\n",
    "    senha_net = input(\"Insira a senha de acesso Magalu:\")\n",
    "    return email_net; senha_magalu\n",
    "\n",
    "def coleta_magalu():\n",
    "    email_magalu = input(\"Insira o e-mail Magalu:\")\n",
    "    senha_magalu = input(\"Insira a senha de acesso Magalu:\")\n",
    "    return email_magalu\n",
    "    return senha_magalu\n",
    "\n",
    "#_______________________________________#_______________________________________#\n",
    "\n",
    "navegador.find_element('xpath', '//*[@id=\"email\"]').send_keys(coleta_e_net(easygui.enterbox(\"Insira o e-mail Netshoes:\")))\n",
    "navegador.find_element('xpath', '//*[@id=\"top\"]/div/div/div/div/div[2]/div/form/div[2]/div/input').send_keys(coleta_s_net(easygui.enterbox(\"Insira a senha de acesso Netshoes:\")))\n",
    "navegador.find_element('xpath', '//*[@id=\"btnLogin\"]').click()\n",
    "\n",
    "        \n",
    "time.sleep(7)\n",
    "navegador.find_element('xpath', '//*[@id=\"top\"]/div[2]/ng-include/aside/div[3]/ul/li[5]/a').click()\n",
    "navegador.find_element('xpath', '//*[@id=\"Vendas\"]/li[1]/a').click()\n",
    "time.sleep(5)\n",
    "navegador.find_element('xpath', '//*[@id=\"top\"]/div[2]/div/div[1]/section/div[4]/div/div[1]/ng-include/div/button').click()\n",
    "time.sleep(1)\n",
    "navegador.find_element('xpath', '//*[@id=\"top\"]/div[2]/div/div[1]/section/div[4]/div/div[1]/ng-include/div/ul/li/div[1]/div/div[2]/div/div/div[1]/span').click()\n",
    "time.sleep(2)\n",
    "navegador.find_element('xpath', '//*[@id=\"ui-select-choices-row-0-2\"]/span').click()\n",
    "time.sleep(2)\n",
    "navegador.find_element('xpath', '//*[@id=\"top\"]/div[2]/div/div[1]/section/div[4]/div/div[1]/ng-include/div/ul/li/div[4]/button[2]').click()\n",
    "time.sleep(7)\n",
    "navegador.find_element('xpath', '//*[@id=\"top\"]/div[2]/div/div[1]/section/div[2]/div[5]/button').click()\n",
    "time.sleep(2)\n",
    "navegador.find_element('xpath', '//*[@id=\"Vendas\"]/li[3]/a').click()\n"
   ]
  },
  {
   "cell_type": "code",
   "execution_count": null,
   "id": "0b571c12",
   "metadata": {},
   "outputs": [],
   "source": []
  }
 ],
 "metadata": {
  "kernelspec": {
   "display_name": "Python 3.9.13 ('base')",
   "language": "python",
   "name": "python3"
  },
  "language_info": {
   "codemirror_mode": {
    "name": "ipython",
    "version": 3
   },
   "file_extension": ".py",
   "mimetype": "text/x-python",
   "name": "python",
   "nbconvert_exporter": "python",
   "pygments_lexer": "ipython3",
   "version": "3.9.13"
  },
  "vscode": {
   "interpreter": {
    "hash": "a077222d77dfe082b8f1dd562ad70e458ac2ab76993a0b248ab0476e32e9e8dd"
   }
  }
 },
 "nbformat": 4,
 "nbformat_minor": 5
}
