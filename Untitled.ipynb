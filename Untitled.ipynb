{
 "cells": [
  {
   "cell_type": "code",
   "execution_count": 12,
   "id": "010312c0",
   "metadata": {},
   "outputs": [
    {
     "name": "stdout",
     "output_type": "stream",
     "text": [
      "Insira o e-mail Netshoes:lsoshoes@inovemark.com.br\n",
      "Insira a senha de acesso Netshoes:Gcarneiro2020i9$\n"
     ]
    },
    {
     "ename": "InvalidSelectorException",
     "evalue": "Message: invalid selector: Unable to locate an element with the xpath expression  because of the following error:\nSyntaxError: Failed to execute 'evaluate' on 'Document': The string '' is not a valid XPath expression.\n  (Session info: chrome=109.0.5414.75)\nStacktrace:\nBacktrace:\n\t(No symbol) [0x00826643]\n\t(No symbol) [0x007BBE21]\n\t(No symbol) [0x006BDA9D]\n\t(No symbol) [0x006C09E4]\n\t(No symbol) [0x006C08AD]\n\t(No symbol) [0x006C0B30]\n\t(No symbol) [0x006F0FAC]\n\t(No symbol) [0x006F147B]\n\t(No symbol) [0x00728DC2]\n\t(No symbol) [0x0070FDC4]\n\t(No symbol) [0x00726B09]\n\t(No symbol) [0x0070FB76]\n\t(No symbol) [0x006E49C1]\n\t(No symbol) [0x006E5E5D]\n\tGetHandleVerifier [0x00A9A142+2497106]\n\tGetHandleVerifier [0x00AC85D3+2686691]\n\tGetHandleVerifier [0x00ACBB9C+2700460]\n\tGetHandleVerifier [0x008D3B10+635936]\n\t(No symbol) [0x007C4A1F]\n\t(No symbol) [0x007CA418]\n\t(No symbol) [0x007CA505]\n\t(No symbol) [0x007D508B]\n\tBaseThreadInitThunk [0x75C300F9+25]\n\tRtlGetAppContainerNamedObjectPath [0x77907BBE+286]\n\tRtlGetAppContainerNamedObjectPath [0x77907B8E+238]\n",
     "output_type": "error",
     "traceback": [
      "\u001b[1;31m---------------------------------------------------------------------------\u001b[0m",
      "\u001b[1;31mInvalidSelectorException\u001b[0m                  Traceback (most recent call last)",
      "\u001b[1;32m~\\AppData\\Local\\Temp\\ipykernel_10364\\3707345353.py\u001b[0m in \u001b[0;36m<module>\u001b[1;34m\u001b[0m\n\u001b[0;32m     42\u001b[0m \u001b[0mtime\u001b[0m\u001b[1;33m.\u001b[0m\u001b[0msleep\u001b[0m\u001b[1;33m(\u001b[0m\u001b[1;36m1\u001b[0m\u001b[1;33m)\u001b[0m\u001b[1;33m\u001b[0m\u001b[1;33m\u001b[0m\u001b[0m\n\u001b[0;32m     43\u001b[0m \u001b[0mnavegador\u001b[0m\u001b[1;33m.\u001b[0m\u001b[0mfind_element\u001b[0m\u001b[1;33m(\u001b[0m\u001b[1;34m'xpath'\u001b[0m\u001b[1;33m,\u001b[0m \u001b[1;34m'//*[@id=\"top\"]/div[2]/div/div[1]/section/div[4]/div/div[1]/ng-include/div/ul/li/div[1]/div/div[2]/div/div/div[1]/span'\u001b[0m\u001b[1;33m)\u001b[0m\u001b[1;33m.\u001b[0m\u001b[0mclick\u001b[0m\u001b[1;33m(\u001b[0m\u001b[1;33m)\u001b[0m\u001b[1;33m\u001b[0m\u001b[1;33m\u001b[0m\u001b[0m\n\u001b[1;32m---> 44\u001b[1;33m \u001b[0mnavegador\u001b[0m\u001b[1;33m.\u001b[0m\u001b[0mfind_element\u001b[0m\u001b[1;33m(\u001b[0m\u001b[1;34m'xpath'\u001b[0m\u001b[1;33m,\u001b[0m \u001b[1;34m''\u001b[0m\u001b[1;33m)\u001b[0m\u001b[1;33m\u001b[0m\u001b[1;33m\u001b[0m\u001b[0m\n\u001b[0m",
      "\u001b[1;32m~\\anaconda3\\lib\\site-packages\\selenium\\webdriver\\remote\\webdriver.py\u001b[0m in \u001b[0;36mfind_element\u001b[1;34m(self, by, value)\u001b[0m\n\u001b[0;32m    859\u001b[0m             \u001b[0mvalue\u001b[0m \u001b[1;33m=\u001b[0m \u001b[1;34m'[name=\"%s\"]'\u001b[0m \u001b[1;33m%\u001b[0m \u001b[0mvalue\u001b[0m\u001b[1;33m\u001b[0m\u001b[1;33m\u001b[0m\u001b[0m\n\u001b[0;32m    860\u001b[0m \u001b[1;33m\u001b[0m\u001b[0m\n\u001b[1;32m--> 861\u001b[1;33m         \u001b[1;32mreturn\u001b[0m \u001b[0mself\u001b[0m\u001b[1;33m.\u001b[0m\u001b[0mexecute\u001b[0m\u001b[1;33m(\u001b[0m\u001b[0mCommand\u001b[0m\u001b[1;33m.\u001b[0m\u001b[0mFIND_ELEMENT\u001b[0m\u001b[1;33m,\u001b[0m \u001b[1;33m{\u001b[0m\u001b[1;34m\"using\"\u001b[0m\u001b[1;33m:\u001b[0m \u001b[0mby\u001b[0m\u001b[1;33m,\u001b[0m \u001b[1;34m\"value\"\u001b[0m\u001b[1;33m:\u001b[0m \u001b[0mvalue\u001b[0m\u001b[1;33m}\u001b[0m\u001b[1;33m)\u001b[0m\u001b[1;33m[\u001b[0m\u001b[1;34m\"value\"\u001b[0m\u001b[1;33m]\u001b[0m\u001b[1;33m\u001b[0m\u001b[1;33m\u001b[0m\u001b[0m\n\u001b[0m\u001b[0;32m    862\u001b[0m \u001b[1;33m\u001b[0m\u001b[0m\n\u001b[0;32m    863\u001b[0m     \u001b[1;32mdef\u001b[0m \u001b[0mfind_elements\u001b[0m\u001b[1;33m(\u001b[0m\u001b[0mself\u001b[0m\u001b[1;33m,\u001b[0m \u001b[0mby\u001b[0m\u001b[1;33m=\u001b[0m\u001b[0mBy\u001b[0m\u001b[1;33m.\u001b[0m\u001b[0mID\u001b[0m\u001b[1;33m,\u001b[0m \u001b[0mvalue\u001b[0m\u001b[1;33m:\u001b[0m \u001b[0mOptional\u001b[0m\u001b[1;33m[\u001b[0m\u001b[0mstr\u001b[0m\u001b[1;33m]\u001b[0m \u001b[1;33m=\u001b[0m \u001b[1;32mNone\u001b[0m\u001b[1;33m)\u001b[0m \u001b[1;33m->\u001b[0m \u001b[0mList\u001b[0m\u001b[1;33m[\u001b[0m\u001b[0mWebElement\u001b[0m\u001b[1;33m]\u001b[0m\u001b[1;33m:\u001b[0m\u001b[1;33m\u001b[0m\u001b[1;33m\u001b[0m\u001b[0m\n",
      "\u001b[1;32m~\\anaconda3\\lib\\site-packages\\selenium\\webdriver\\remote\\webdriver.py\u001b[0m in \u001b[0;36mexecute\u001b[1;34m(self, driver_command, params)\u001b[0m\n\u001b[0;32m    442\u001b[0m         \u001b[0mresponse\u001b[0m \u001b[1;33m=\u001b[0m \u001b[0mself\u001b[0m\u001b[1;33m.\u001b[0m\u001b[0mcommand_executor\u001b[0m\u001b[1;33m.\u001b[0m\u001b[0mexecute\u001b[0m\u001b[1;33m(\u001b[0m\u001b[0mdriver_command\u001b[0m\u001b[1;33m,\u001b[0m \u001b[0mparams\u001b[0m\u001b[1;33m)\u001b[0m\u001b[1;33m\u001b[0m\u001b[1;33m\u001b[0m\u001b[0m\n\u001b[0;32m    443\u001b[0m         \u001b[1;32mif\u001b[0m \u001b[0mresponse\u001b[0m\u001b[1;33m:\u001b[0m\u001b[1;33m\u001b[0m\u001b[1;33m\u001b[0m\u001b[0m\n\u001b[1;32m--> 444\u001b[1;33m             \u001b[0mself\u001b[0m\u001b[1;33m.\u001b[0m\u001b[0merror_handler\u001b[0m\u001b[1;33m.\u001b[0m\u001b[0mcheck_response\u001b[0m\u001b[1;33m(\u001b[0m\u001b[0mresponse\u001b[0m\u001b[1;33m)\u001b[0m\u001b[1;33m\u001b[0m\u001b[1;33m\u001b[0m\u001b[0m\n\u001b[0m\u001b[0;32m    445\u001b[0m             \u001b[0mresponse\u001b[0m\u001b[1;33m[\u001b[0m\u001b[1;34m\"value\"\u001b[0m\u001b[1;33m]\u001b[0m \u001b[1;33m=\u001b[0m \u001b[0mself\u001b[0m\u001b[1;33m.\u001b[0m\u001b[0m_unwrap_value\u001b[0m\u001b[1;33m(\u001b[0m\u001b[0mresponse\u001b[0m\u001b[1;33m.\u001b[0m\u001b[0mget\u001b[0m\u001b[1;33m(\u001b[0m\u001b[1;34m\"value\"\u001b[0m\u001b[1;33m,\u001b[0m \u001b[1;32mNone\u001b[0m\u001b[1;33m)\u001b[0m\u001b[1;33m)\u001b[0m\u001b[1;33m\u001b[0m\u001b[1;33m\u001b[0m\u001b[0m\n\u001b[0;32m    446\u001b[0m             \u001b[1;32mreturn\u001b[0m \u001b[0mresponse\u001b[0m\u001b[1;33m\u001b[0m\u001b[1;33m\u001b[0m\u001b[0m\n",
      "\u001b[1;32m~\\anaconda3\\lib\\site-packages\\selenium\\webdriver\\remote\\errorhandler.py\u001b[0m in \u001b[0;36mcheck_response\u001b[1;34m(self, response)\u001b[0m\n\u001b[0;32m    247\u001b[0m                 \u001b[0malert_text\u001b[0m \u001b[1;33m=\u001b[0m \u001b[0mvalue\u001b[0m\u001b[1;33m[\u001b[0m\u001b[1;34m\"alert\"\u001b[0m\u001b[1;33m]\u001b[0m\u001b[1;33m.\u001b[0m\u001b[0mget\u001b[0m\u001b[1;33m(\u001b[0m\u001b[1;34m\"text\"\u001b[0m\u001b[1;33m)\u001b[0m\u001b[1;33m\u001b[0m\u001b[1;33m\u001b[0m\u001b[0m\n\u001b[0;32m    248\u001b[0m             \u001b[1;32mraise\u001b[0m \u001b[0mexception_class\u001b[0m\u001b[1;33m(\u001b[0m\u001b[0mmessage\u001b[0m\u001b[1;33m,\u001b[0m \u001b[0mscreen\u001b[0m\u001b[1;33m,\u001b[0m \u001b[0mstacktrace\u001b[0m\u001b[1;33m,\u001b[0m \u001b[0malert_text\u001b[0m\u001b[1;33m)\u001b[0m  \u001b[1;31m# type: ignore[call-arg]  # mypy is not smart enough here\u001b[0m\u001b[1;33m\u001b[0m\u001b[1;33m\u001b[0m\u001b[0m\n\u001b[1;32m--> 249\u001b[1;33m         \u001b[1;32mraise\u001b[0m \u001b[0mexception_class\u001b[0m\u001b[1;33m(\u001b[0m\u001b[0mmessage\u001b[0m\u001b[1;33m,\u001b[0m \u001b[0mscreen\u001b[0m\u001b[1;33m,\u001b[0m \u001b[0mstacktrace\u001b[0m\u001b[1;33m)\u001b[0m\u001b[1;33m\u001b[0m\u001b[1;33m\u001b[0m\u001b[0m\n\u001b[0m",
      "\u001b[1;31mInvalidSelectorException\u001b[0m: Message: invalid selector: Unable to locate an element with the xpath expression  because of the following error:\nSyntaxError: Failed to execute 'evaluate' on 'Document': The string '' is not a valid XPath expression.\n  (Session info: chrome=109.0.5414.75)\nStacktrace:\nBacktrace:\n\t(No symbol) [0x00826643]\n\t(No symbol) [0x007BBE21]\n\t(No symbol) [0x006BDA9D]\n\t(No symbol) [0x006C09E4]\n\t(No symbol) [0x006C08AD]\n\t(No symbol) [0x006C0B30]\n\t(No symbol) [0x006F0FAC]\n\t(No symbol) [0x006F147B]\n\t(No symbol) [0x00728DC2]\n\t(No symbol) [0x0070FDC4]\n\t(No symbol) [0x00726B09]\n\t(No symbol) [0x0070FB76]\n\t(No symbol) [0x006E49C1]\n\t(No symbol) [0x006E5E5D]\n\tGetHandleVerifier [0x00A9A142+2497106]\n\tGetHandleVerifier [0x00AC85D3+2686691]\n\tGetHandleVerifier [0x00ACBB9C+2700460]\n\tGetHandleVerifier [0x008D3B10+635936]\n\t(No symbol) [0x007C4A1F]\n\t(No symbol) [0x007CA418]\n\t(No symbol) [0x007CA505]\n\t(No symbol) [0x007D508B]\n\tBaseThreadInitThunk [0x75C300F9+25]\n\tRtlGetAppContainerNamedObjectPath [0x77907BBE+286]\n\tRtlGetAppContainerNamedObjectPath [0x77907B8E+238]\n"
     ]
    }
   ],
   "source": [
    "import pyautogui\n",
    "import time\n",
    "import pyperclip\n",
    "import pandas as pd\n",
    "from selenium import webdriver\n",
    "\n",
    "\n",
    "#_______________________________________Declaração de váriaveis_______________________________________\n",
    "navegador = webdriver.Chrome()\n",
    "navegador.maximize_window()\n",
    "navegador.get('https://marketplace.netshoes.com.br/')\n",
    "\n",
    "email_net = \"\"\n",
    "senha_net = \"\"\n",
    "\n",
    "#_______________________________________Declaração de funções_______________________________________\n",
    "\n",
    "def coleta_e_net(email_net):\n",
    "    return email_net\n",
    "\n",
    "def coleta_s_net(senha_net):\n",
    "    return senha_net\n",
    "\n",
    "def coleta_magalu():\n",
    "    email_magalu = input(\"Insira o e-mail Magalu:\")\n",
    "    senha_magalu = input(\"Insira a senha de acesso Magalu:\")\n",
    "    return email_magalu\n",
    "    return senha_magalu\n",
    "\n",
    "#_______________________________________#_______________________________________#\n",
    "\n",
    "navegador.find_element('xpath', '//*[@id=\"email\"]').send_keys(coleta_e_net(input(\"Insira o e-mail Netshoes:\")))\n",
    "navegador.find_element('xpath', '//*[@id=\"top\"]/div/div/div/div/div[2]/div/form/div[2]/div/input').send_keys(coleta_s_net(input(\"Insira a senha de acesso Netshoes:\")))\n",
    "navegador.find_element('xpath', '//*[@id=\"btnLogin\"]').click()\n",
    "\n",
    "        \n",
    "time.sleep(7)\n",
    "navegador.find_element('xpath', '//*[@id=\"top\"]/div[2]/ng-include/aside/div[3]/ul/li[5]/a').click()\n",
    "navegador.find_element('xpath', '//*[@id=\"Vendas\"]/li[1]/a').click()\n",
    "time.sleep(5)\n",
    "navegador.find_element('xpath', '//*[@id=\"top\"]/div[2]/div/div[1]/section/div[4]/div/div[1]/ng-include/div/button').click()\n",
    "time.sleep(1)\n",
    "navegador.find_element('xpath', '//*[@id=\"top\"]/div[2]/div/div[1]/section/div[4]/div/div[1]/ng-include/div/ul/li/div[1]/div/div[2]/div/div/div[1]/span').click()\n",
    "navegador.find_element('xpath', '//*[@id=\"ui-select-choices-row-0-2\"]/span').click"
   ]
  },
  {
   "cell_type": "code",
   "execution_count": 6,
   "id": "6f968a80",
   "metadata": {},
   "outputs": [
    {
     "ename": "SyntaxError",
     "evalue": "invalid syntax (1349894990.py, line 1)",
     "output_type": "error",
     "traceback": [
      "\u001b[1;36m  File \u001b[1;32m\"C:\\Users\\user\\AppData\\Local\\Temp\\ipykernel_7660\\1349894990.py\"\u001b[1;36m, line \u001b[1;32m1\u001b[0m\n\u001b[1;33m    //*[@id=\"ui-datepicker-div\"]/table/tbody/tr[2]/td[4]/a\u001b[0m\n\u001b[1;37m    ^\u001b[0m\n\u001b[1;31mSyntaxError\u001b[0m\u001b[1;31m:\u001b[0m invalid syntax\n"
     ]
    }
   ],
   "source": [
    "//*[@id=\"ui-datepicker-div\"]/table/tbody/tr[2]/td[4]/a\n",
    "document.querySelector(\"#ui-datepicker-div > table > tbody > tr:nth-child(2) > td:nth-child(4) > a\")\n",
    "\n",
    "/html/body/div[4]/table/tbody/tr[2]/td[4]/a"
   ]
  },
  {
   "cell_type": "code",
   "execution_count": null,
   "id": "0b571c12",
   "metadata": {},
   "outputs": [],
   "source": []
  }
 ],
 "metadata": {
  "kernelspec": {
   "display_name": "Python 3.9.13 ('base')",
   "language": "python",
   "name": "python3"
  },
  "language_info": {
   "codemirror_mode": {
    "name": "ipython",
    "version": 3
   },
   "file_extension": ".py",
   "mimetype": "text/x-python",
   "name": "python",
   "nbconvert_exporter": "python",
   "pygments_lexer": "ipython3",
   "version": "3.9.13"
  },
  "vscode": {
   "interpreter": {
    "hash": "a077222d77dfe082b8f1dd562ad70e458ac2ab76993a0b248ab0476e32e9e8dd"
   }
  }
 },
 "nbformat": 4,
 "nbformat_minor": 5
}
