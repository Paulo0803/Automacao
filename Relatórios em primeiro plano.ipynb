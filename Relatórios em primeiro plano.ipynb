{
 "cells": [
  {
   "cell_type": "code",
   "execution_count": null,
   "id": "855aa348-cfe6-4b0d-babc-fc9195d31d79",
   "metadata": {},
   "outputs": [],
   "source": [
    "pip install selenium"
   ]
  },
  {
   "cell_type": "code",
   "execution_count": 24,
   "id": "2218d328-a625-4f09-b733-5dcedf15104a",
   "metadata": {},
   "outputs": [],
   "source": [
    "import pyautogui\n",
    "import time\n",
    "import pyperclip\n",
    "import pandas as pd\n",
    "from selenium import webdriver\n",
    "\n",
    "pyautogui.hotkey(\"alt\", \"space\")\n",
    "pyautogui.write(\"W.a.\")\n",
    "time.sleep(2)\n",
    "pyautogui.press(\"enter\")\n",
    "time.sleep(2)\n",
    "pyautogui.hotkey(\"ctrl\", \"t\")\n",
    "pyautogui.write(\"https://marketplace.netshoes.com.br\")\n",
    "pyautogui.press(\"enter\")\n",
    "time.sleep(1)\n",
    "pyperclip.copy(\"waprofiro@inovemark.com.br\")\n",
    "pyautogui.hotkey(\"ctrl\", \"v\")\n",
    "pyautogui.press(\"tab\")\n",
    "pyperclip.copy(\"Gcarneiroi92022&*\")\n",
    "pyautogui.hotkey(\"ctrl\", \"v\")\n",
    "pyautogui.press(\"enter\")\n",
    "time.sleep(5)\n",
    "pyautogui.click(x=146, y=492)\n",
    "time.sleep(5)\n",
    "pyautogui.click(x=146, y=492)\n",
    "pyautogui.click(x=127, y=544)\n",
    "time.sleep(5)\n",
    "pyautogui.click(x=1456, y=192)\n",
    "time.sleep(5)\n",
    "pyautogui.click(x=122, y=615)\n",
    "time.sleep(2)\n",
    "pyautogui.click(x=98, y=653)\n",
    "\n",
    "#inovemark*robo\n"
   ]
  },
  {
   "cell_type": "markdown",
   "id": "97fa72c2-8993-4c3e-84e7-c0157cc93ab6",
   "metadata": {},
   "source": [
    "pyautogui.pause: 2\n",
    "\n",
    "pyautogui.hotkey(\"ctrl\", \"t\")\n",
    "pyautogui.write(\"https://seller.magalu.com/products/?tenantId=sollesindustriaecomercioltda&_ga=2.63367078.862223050.1673283586-149596706.1673283586&_gl=1*i6ihpz*_ga*MTQ5NTk2NzA2LjE2NzMyODM1ODY.*_ga_5KNXJNZP7G*MTY3MzM1NjAwMC40LjEuMTY3MzM1NjAwNC4wLjAuMA..\")\n",
    "pyautogui.press(\"enter\")"
   ]
  },
  {
   "cell_type": "code",
   "execution_count": 13,
   "id": "db89b6f1-decd-4998-8138-21c5a57a642a",
   "metadata": {},
   "outputs": [
    {
     "data": {
      "text/plain": [
       "Point(x=98, y=653)"
      ]
     },
     "execution_count": 13,
     "metadata": {},
     "output_type": "execute_result"
    }
   ],
   "source": [
    "import pyautogui\n",
    "import time\n",
    "import pandas as pd\n",
    "\n",
    "time.sleep(5)\n",
    "pyautogui.position()"
   ]
  },
  {
   "cell_type": "code",
   "execution_count": null,
   "id": "1a315e62-59d9-49d0-a60c-04fef17f35f0",
   "metadata": {},
   "outputs": [],
   "source": []
  }
 ],
 "metadata": {
  "kernelspec": {
   "display_name": "Python 3 (ipykernel)",
   "language": "python",
   "name": "python3"
  },
  "language_info": {
   "codemirror_mode": {
    "name": "ipython",
    "version": 3
   },
   "file_extension": ".py",
   "mimetype": "text/x-python",
   "name": "python",
   "nbconvert_exporter": "python",
   "pygments_lexer": "ipython3",
   "version": "3.9.13"
  }
 },
 "nbformat": 4,
 "nbformat_minor": 5
}
